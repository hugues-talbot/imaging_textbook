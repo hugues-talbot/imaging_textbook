{
 "metadata": {
  "name": "",
  "signature": "sha256:2d73f4f21810546ea225940fcd068e44d61b4e12ba5f6c045cec0a05de159933"
 },
 "nbformat": 3,
 "nbformat_minor": 0,
 "worksheets": [
  {
   "cells": [
    {
     "cell_type": "heading",
     "level": 1,
     "metadata": {},
     "source": [
      "An introduction to VTK: Cone Example #1"
     ]
    },
    {
     "cell_type": "markdown",
     "metadata": {},
     "source": [
      "VTK, the <a href=http://vtk.org>Visualisation Toolkit</a> is a powerful framework for building application to display 3D data interactively. It is a bit strange and complex in the beginning, but it allows users to access all the power of modern 3D rendering into an approachable framework. In this example, we use the Python language to interact with VTK.\n",
      "\n",
      "The most important aspect of VTK is that it is composed of a series of elements that are connected together into a rendering <b>pipeline</b>. Pipelines can have many elements, but the most basic ones are fairly simple.\n",
      "\n",
      "In this example, we setup the basic elements of a VTK pipeline:\n",
      "<list>\n",
      "<li> A source (here a geometric primitive); </li>\n",
      "<li> A mapper; </li>\n",
      "<li> A renderer; </li>\n",
      "<li> A render window. </li>\n",
      "</list>"
     ]
    },
    {
     "cell_type": "code",
     "collapsed": false,
     "input": [
      "# The basic setup of: # source -> mapper -> actor -> renderer -> renderwindow \n",
      "# is typical of most VTK programs.\n",
      "\"\"\" \n",
      "A cone viewer example\n",
      "\"\"\"\n",
      "\n",
      "try:\n",
      "    import Tkinter as tk\n",
      "    import vtk\n",
      "    import time\n",
      "except:\n",
      "    print(\"Python-tk, vtk and/or tkinter is not installed\")"
     ],
     "language": "python",
     "metadata": {},
     "outputs": [],
     "prompt_number": 2
    },
    {
     "cell_type": "markdown",
     "metadata": {},
     "source": [
      "The source is here directly a geometric model : a cone."
     ]
    },
    {
     "cell_type": "code",
     "collapsed": false,
     "input": [
      "# a basic object from VTK\n",
      "cone = vtk.vtkConeSource() \n",
      "\n",
      "cone.SetHeight( 3.0 ) \n",
      "cone.SetRadius( 1.0 ) \n",
      "cone.SetResolution( 10 )"
     ],
     "language": "python",
     "metadata": {},
     "outputs": [],
     "prompt_number": 3
    },
    {
     "cell_type": "markdown",
     "metadata": {},
     "source": [
      "Then we create a VTK element that translates the geometric model into a triangulation: a <b>mapper</b>. Then we connect the cone to the mapper."
     ]
    },
    {
     "cell_type": "code",
     "collapsed": false,
     "input": [
      "# maps the cone data into polygons\n",
      "coneMapper = vtk.vtkPolyDataMapper()\n",
      "# connects the data to the polygon mapper \n",
      "coneMapper.SetInput( cone.GetOutput() )"
     ],
     "language": "python",
     "metadata": {},
     "outputs": [],
     "prompt_number": 4
    },
    {
     "cell_type": "markdown",
     "metadata": {},
     "source": [
      "The next element in the pipeline is an <b>actor</b>. The actor is like an actor in a movie, it represents an objet in a rendering scene. We connect the cone mapper to the cone actor.  "
     ]
    },
    {
     "cell_type": "code",
     "collapsed": false,
     "input": [
      "# an actor represents a geometrical object in a rendering\n",
      "coneActor = vtk.vtkActor() \n",
      "coneActor.SetMapper( coneMapper )"
     ],
     "language": "python",
     "metadata": {},
     "outputs": [],
     "prompt_number": 5
    },
    {
     "cell_type": "markdown",
     "metadata": {},
     "source": [
      "After all this, we need a way to tranform the geometry, triangulation and its representation in a 3D scene into an actual 2D image. For this we use a <b>renderer</b>. We connect the cone actor to the renderer."
     ]
    },
    {
     "cell_type": "code",
     "collapsed": false,
     "input": [
      "# create the renderer\n",
      "ren1= vtk.vtkRenderer() \n",
      "ren1.AddActor( coneActor ) \n",
      "ren1.SetBackground( 0.6, 0.2, 0.4 )"
     ],
     "language": "python",
     "metadata": {},
     "outputs": [],
     "prompt_number": 6
    },
    {
     "cell_type": "markdown",
     "metadata": {},
     "source": [
      "After this we create a rendering window, to which we connect the renderer."
     ]
    },
    {
     "cell_type": "code",
     "collapsed": false,
     "input": [
      "# create the rendering window\n",
      "renWin = vtk.vtkRenderWindow() \n",
      "renWin.AddRenderer( ren1 ) \n",
      "renWin.SetSize( 300, 300 )"
     ],
     "language": "python",
     "metadata": {},
     "outputs": [],
     "prompt_number": 7
    },
    {
     "cell_type": "markdown",
     "metadata": {},
     "source": [
      "This example is not interactive, we make the render rotate its camera. The effect is that the cone seems to rotate. In \"reality\", the camera is rotating around the fixed cone."
     ]
    },
    {
     "cell_type": "code",
     "collapsed": false,
     "input": [
      "#\n",
      "# now we loop over 360 degrees and render the cone each time\n",
      "#\n",
      "for i in range(0,360):\n",
      "    time.sleep(0.03)\n",
      "\n",
      "    renWin.Render()\n",
      "    ren1.GetActiveCamera().Azimuth( 1 )\n"
     ],
     "language": "python",
     "metadata": {},
     "outputs": [],
     "prompt_number": 8
    },
    {
     "cell_type": "markdown",
     "metadata": {},
     "source": [
      "That's it. Now do the following:\n",
      "<list>\n",
      "<li> Find out how to improve the resolution of the cone (more faces / triangles)</li>\n",
      "<li> Change the cone into a cylinder ; a sphere </li>\n",
      "<li> Change the color of the background</li>\n",
      "</list>\n",
      "\n",
      "In the next example, "
     ]
    },
    {
     "cell_type": "code",
     "collapsed": false,
     "input": [],
     "language": "python",
     "metadata": {},
     "outputs": []
    }
   ],
   "metadata": {}
  }
 ]
}